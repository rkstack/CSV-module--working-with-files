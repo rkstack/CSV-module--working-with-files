{
 "cells": [
  {
   "cell_type": "markdown",
   "metadata": {},
   "source": [
    "## CSV module - Working With Files-Advance"
   ]
  },
  {
   "cell_type": "markdown",
   "metadata": {},
   "source": [
    "#### Given File 'amazonjobsdataset.csv'. It is a dataset including information on amazon job opening around the world from June 2011 to March 2018. This dataset is collected using Selenium and BeautifulSoup by scraping all of the jobs for Amazon job site."
   ]
  },
  {
   "cell_type": "markdown",
   "metadata": {},
   "source": [
    "### Job Location"
   ]
  },
  {
   "cell_type": "markdown",
   "metadata": {},
   "source": [
    "Problem Statement :\n",
    "Find number of job openings in Bangalore,IN and in Seattle,US?\n",
    "Print the Number of Job opening in Bangalore and Seattle as Integer value.\n",
    "Output Format :\n",
    "\n",
    "CountBangalore CountSeattle\n"
   ]
  },
  {
   "cell_type": "code",
   "execution_count": 2,
   "metadata": {},
   "outputs": [
    {
     "name": "stdout",
     "output_type": "stream",
     "text": [
      "66 1856\n"
     ]
    }
   ],
   "source": [
    "import csv\n",
    "\n",
    "with open('amazon_jobs_dataset.csv','r',encoding='utf8') as file_obj:\n",
    "    file_data=csv.DictReader(file_obj,delimiter=',',skipinitialspace=True)\n",
    "    file_list=list(file_data)\n",
    "    \n",
    "city_job={}\n",
    "\n",
    "for row in file_list:\n",
    "    key=row['location']\n",
    "    value=1\n",
    "    \n",
    "    if key in city_job:\n",
    "        city_job[key]+=value\n",
    "    else:\n",
    "        city_job[key]=value\n",
    "        \n",
    "print(city_job['IN, KA, Bangalore '],end=' ')\n",
    "print(city_job['US, WA, Seattle '])  "
   ]
  },
  {
   "cell_type": "markdown",
   "metadata": {},
   "source": [
    "### Job Computer Vision"
   ]
  },
  {
   "cell_type": "markdown",
   "metadata": {},
   "source": [
    "Problem Statement :\n",
    "What are the total number of job openings related to Computer Vision ?\n",
    "Note:For finding the job related to computer vision check the Job Title column.\n",
    "Print the count as the Integer Value\n",
    "Output Format :\n",
    "\n",
    "Count\n"
   ]
  },
  {
   "cell_type": "code",
   "execution_count": 6,
   "metadata": {},
   "outputs": [
    {
     "name": "stdout",
     "output_type": "stream",
     "text": [
      "14\n"
     ]
    }
   ],
   "source": [
    "import csv\n",
    "\n",
    "with open('amazon_jobs_dataset.csv','r',encoding='utf8') as file_obj:\n",
    "    file_data=csv.DictReader(file_obj,delimiter=',',skipinitialspace=True)\n",
    "    file_list=list(file_data)\n",
    "    \n",
    "title_job={}\n",
    "\n",
    "for row in file_list:\n",
    "    key=row['Title']\n",
    "    value=1\n",
    "    \n",
    "    if key in title_job:\n",
    "        title_job[key]+=value\n",
    "    else:\n",
    "        title_job[key]=value\n",
    "\n",
    "        \n",
    "search_key = 'Computer Vision'\n",
    "res = [val for key, val in title_job.items() if search_key in key]\n",
    "print(sum(res))  \n"
   ]
  },
  {
   "cell_type": "markdown",
   "metadata": {},
   "source": [
    "### Job Canada"
   ]
  },
  {
   "cell_type": "markdown",
   "metadata": {},
   "source": [
    "Problem Statement :\n",
    "Find the number of job openings in Canada?\n",
    "Print the count as the Integer Value\n",
    "Note: Here you should analyse the country code in location feature.( you can use dictionary for analyse part ).\n",
    "Output Format :\n",
    "\n",
    "Count\n"
   ]
  },
  {
   "cell_type": "code",
   "execution_count": 8,
   "metadata": {},
   "outputs": [
    {
     "name": "stdout",
     "output_type": "stream",
     "text": [
      "156\n"
     ]
    }
   ],
   "source": [
    "import csv\n",
    "\n",
    "with open('amazon_jobs_dataset.csv','r',encoding='utf8') as file_obj:\n",
    "    file_data=csv.DictReader(file_obj,delimiter=',',skipinitialspace=True)\n",
    "    file_list=list(file_data)\n",
    "    \n",
    "loc_job={}\n",
    "\n",
    "for row in file_list:\n",
    "    key=row['location']\n",
    "    value=1\n",
    "    \n",
    "    if key in loc_job:\n",
    "        loc_job[key]+=value\n",
    "    else:\n",
    "        loc_job[key]=value\n",
    "\n",
    "        \n",
    "search_key = 'CA, '\n",
    "search_keyUS=' CA, '\n",
    "res = [val for key, val in loc_job.items() if search_key in key]\n",
    "resUS = [val for key, val in loc_job.items() if search_keyUS in key]\n",
    "print(sum(res)-sum(resUS))  \n"
   ]
  },
  {
   "cell_type": "markdown",
   "metadata": {},
   "source": [
    "### Job Month 2018 "
   ]
  },
  {
   "cell_type": "markdown",
   "metadata": {},
   "source": [
    "Problem Statement :\n",
    "Find the month having most job openings in Year 2018 ?\n",
    "Print the month (Month Name i.e January, February, March) and Number of job opening as Integer Value\n",
    "Output Format :\n",
    "\n",
    "MonthName Count\n"
   ]
  },
  {
   "cell_type": "code",
   "execution_count": 9,
   "metadata": {},
   "outputs": [
    {
     "name": "stdout",
     "output_type": "stream",
     "text": [
      "January 907\n"
     ]
    }
   ],
   "source": [
    "import csv\n",
    "dict={}\n",
    "\n",
    "with open('amazon_jobs_dataset.csv','r',encoding=\"utf8\") as file_obj:\n",
    "    file_dict=csv.DictReader(file_obj,delimiter=',',skipinitialspace=True)\n",
    "\n",
    "\n",
    "    for keys in file_dict:\n",
    "        month=keys['Posting_date'].split(' ')[0]\n",
    "        year=keys['Posting_date'].split(', ')[1]\n",
    "        \n",
    "\n",
    "        if year=='2018':\n",
    "            if month in dict:\n",
    "                dict[month]+=1\n",
    "\n",
    "            else:\n",
    "                dict[month]=1\n",
    "    maxmonth=max(dict, key=dict.get)\n",
    "    print(maxmonth,dict[maxmonth])"
   ]
  },
  {
   "cell_type": "markdown",
   "metadata": {},
   "source": [
    "### Job Degree"
   ]
  },
  {
   "cell_type": "markdown",
   "metadata": {},
   "source": [
    "Problem Statement :\n",
    "Find the number of job openings are present if applicant have Bachelor degree?\n",
    "Print the count as Integer value\n",
    "Note : Here we will use the BASIC QUALIFICATIONS feature to find out whether bachelor degree for Job is required or not. Keywords that can be used are 'Bachelor', 'BS' and 'BA'.\n",
    "Output Format :\n",
    "\n",
    "Count\n"
   ]
  },
  {
   "cell_type": "code",
   "execution_count": 11,
   "metadata": {},
   "outputs": [
    {
     "name": "stdout",
     "output_type": "stream",
     "text": [
      "2961\n"
     ]
    }
   ],
   "source": [
    "import csv\n",
    "\n",
    "with open (\"amazon_jobs_dataset.csv\", encoding=\"utf8\") as file_obj:\n",
    "    file_data=csv.DictReader(file_obj,skipinitialspace=True)\n",
    "    file_list=list(file_data)\n",
    "    \n",
    "\n",
    "count=0\n",
    "for row in file_list:\n",
    "    key=row['BASIC QUALIFICATIONS']\n",
    "    if ('Bachelor' in key  or 'BS' in key  or  'BA' in key):\n",
    "            count+=1\n",
    "\n",
    "print(count) "
   ]
  },
  {
   "cell_type": "markdown",
   "metadata": {},
   "source": [
    "### Job Language"
   ]
  },
  {
   "cell_type": "markdown",
   "metadata": {},
   "source": [
    "Problem Statement :\n",
    "Among Java, C++ and Python, which of the language has more job openings in India for Bachelor Degree Holder?\n",
    "Print the Language(i.e Java,C++,Python) and number of job opening as integer value.\n",
    "Note : Here we will use the BASIC QUALIFICATIONS feature to find out whether bachelor degree for Job is required or not. Keywords that can be used are 'Bachelor', 'BS' and 'BA' and we will use the BASIC QUALIFICATIONS feature to find out whether Language is required for the job or not.Keywords that is used for language searching are 'Java','C++' or 'Python'.(There case should not be changed).\n",
    "Output Format :\n",
    "\n",
    "Language Count\n"
   ]
  },
  {
   "cell_type": "code",
   "execution_count": 14,
   "metadata": {},
   "outputs": [
    {
     "name": "stdout",
     "output_type": "stream",
     "text": [
      "Java 103\n"
     ]
    }
   ],
   "source": [
    "import csv\n",
    "\n",
    "with open (\"amazon_jobs_dataset.csv\", encoding=\"utf8\") as file_obj:\n",
    "    file_data=csv.DictReader(file_obj,skipinitialspace=True)\n",
    "    file_list=list(file_data)\n",
    "    \n",
    "count1=0\n",
    "count2=0\n",
    "count3=0\n",
    "countrycode='IN'\n",
    "\n",
    "for row in file_list:\n",
    "    key=row['BASIC QUALIFICATIONS']\n",
    "    \n",
    "    if row['location'].split(',')[0]==countrycode:\n",
    "        if ('Bachelor' in key  or 'BS' in key  or  'BA' in key):\n",
    "            if ('Java' in key ):\n",
    "                count1+=1\n",
    "            elif ('C++' in key):\n",
    "                count2+=1\n",
    "            elif ('Python' in key):\n",
    "                count3+=1\n",
    "            \n",
    "            \n",
    "countlist= [count1,count2, count3]           \n",
    "count=max(countlist)\n",
    "countindex=countlist.index(count)\n",
    "\n",
    "if countindex==0:\n",
    "    var='Java'\n",
    "elif countindex==1:\n",
    "    var='C++'\n",
    "if countindex==2:\n",
    "    var='Python'\n",
    "  \n",
    "print(var ,count)    "
   ]
  },
  {
   "cell_type": "markdown",
   "metadata": {},
   "source": [
    "### Job Java "
   ]
  },
  {
   "cell_type": "markdown",
   "metadata": {},
   "source": [
    "Problem Statement :\n",
    "Find the country does Amazon need the most number of Java Developer?\n",
    "Print the Country(Country Shortcut as given in Dataset) and number of job opening as integer value\n",
    "Note :Here we will use the BASIC QUALIFICATIONS feature to find out whether Java is required for the job or not.Keyword is used is 'Java'.(Here case should not be changed).\n",
    "Output Format :\n",
    "\n",
    "Country Count\n"
   ]
  },
  {
   "cell_type": "code",
   "execution_count": 16,
   "metadata": {},
   "outputs": [
    {
     "name": "stdout",
     "output_type": "stream",
     "text": [
      "US 2009\n"
     ]
    }
   ],
   "source": [
    "import csv\n",
    "\n",
    "with open (\"amazon_jobs_dataset.csv\", encoding='utf8') as file_obj:\n",
    "    file_data=csv.DictReader(file_obj,skipinitialspace=True)\n",
    "    file_list=list(file_data)\n",
    "    \n",
    "    \n",
    "city_job_java={}\n",
    "\n",
    "for row in file_list:\n",
    "    \n",
    "    key1=row['BASIC QUALIFICATIONS']\n",
    "    key2=row['location'].split(',')\n",
    "    \n",
    "    value=1\n",
    "    \n",
    "    if ('Java' in key1):\n",
    "        if key2[0] in city_job_java :\n",
    "            city_job_java[key2[0]]+=value\n",
    "        else:\n",
    "            city_job_java[key2[0]]=value\n",
    "            \n",
    "max=0\n",
    "country=\"\"\n",
    "\n",
    "for i in city_job_java :\n",
    "    if max<city_job_java[i] :\n",
    "        max=city_job_java[i]\n",
    "        country=i\n",
    "        \n",
    "print(country,max)"
   ]
  },
  {
   "cell_type": "markdown",
   "metadata": {},
   "source": [
    "### This coding was done by @RK2021"
   ]
  }
 ],
 "metadata": {
  "kernelspec": {
   "display_name": "Python 3",
   "language": "python",
   "name": "python3"
  },
  "language_info": {
   "codemirror_mode": {
    "name": "ipython",
    "version": 3
   },
   "file_extension": ".py",
   "mimetype": "text/x-python",
   "name": "python",
   "nbconvert_exporter": "python",
   "pygments_lexer": "ipython3",
   "version": "3.8.5"
  }
 },
 "nbformat": 4,
 "nbformat_minor": 4
}
