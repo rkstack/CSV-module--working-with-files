{
 "cells": [
  {
   "cell_type": "markdown",
   "metadata": {},
   "source": [
    "## CSV module - Working With Files basics"
   ]
  },
  {
   "cell_type": "markdown",
   "metadata": {},
   "source": [
    "### Basics"
   ]
  },
  {
   "cell_type": "code",
   "execution_count": null,
   "metadata": {},
   "outputs": [],
   "source": [
    "# Print 100 Bytes \n",
    "\n",
    "# Given file \"Sample.txt\"\n",
    "# Open the file\n",
    "# Read the first 100 bytes of file and print them.\n",
    "\n",
    "file_obj=open('Sample.txt')\n",
    "file_data=file_obj.read(100)\n",
    "print(file_data)"
   ]
  },
  {
   "cell_type": "code",
   "execution_count": null,
   "metadata": {},
   "outputs": [],
   "source": [
    "# Print 5 lines\n",
    "\n",
    "# Given file \"Sample.txt\"\n",
    "# Open the file\n",
    "# Read the first 5 lines from file and print them (in separate lines).\n",
    "# Output Format :\n",
    "\n",
    "# Line 1\n",
    "# Line 2\n",
    "# Line 3\n",
    "# Line 4\n",
    "# Line 5\n",
    "\n",
    "file_obj=open('Sample.txt','r')\n",
    "\n",
    "for i in range(1,6):\n",
    "    file_data=file_obj.readline()\n",
    "    print(file_data)\n"
   ]
  },
  {
   "cell_type": "code",
   "execution_count": null,
   "metadata": {},
   "outputs": [],
   "source": [
    "# Print 5 Lines (Readlines)\n",
    "\n",
    "# Given file \"Sample.txt\"\n",
    "# Open the file\n",
    "# Read the first 5 lines from file and print them.\n",
    "# Note : Use readlines() method only\n",
    "# Output Format :\n",
    "\n",
    "# Line 1\n",
    "# Line 2\n",
    "# Line 3\n",
    "# Line 4\n",
    "# Line 5\n",
    "\n",
    "file_obj=open('Sample.txt','r')\n",
    "\n",
    "for i in range(1,6):\n",
    "    file_data=file_obj.readline()\n",
    "    print(file_data)\n"
   ]
  },
  {
   "cell_type": "markdown",
   "metadata": {},
   "source": [
    "#### Given file \"year2017.csv\"\n",
    "#### It is an open-source database including information on terrorist attacks around the world from 1970 through 2017. This dataset includes systematic data on domestic as well as international terrorist incidents that have occurred during this time period"
   ]
  },
  {
   "cell_type": "markdown",
   "metadata": {},
   "source": [
    "### First 3 lines print"
   ]
  },
  {
   "cell_type": "markdown",
   "metadata": {},
   "source": [
    "Problem Statement :\n",
    "Open and read the file\n",
    "Print the first 3 rows of the file, excluding header (in different lines)\n",
    "Print columns of one row, separated by space\n",
    "Output Format :\n",
    "\n",
    "col_1 col_2 col_3 col_4 ....\n",
    "\n",
    "col_1 col_2 col_3 col_4 ....\n",
    "\n",
    "col_1 col_2 col_3 col_4 ....\n",
    "\n"
   ]
  },
  {
   "cell_type": "code",
   "execution_count": 4,
   "metadata": {},
   "outputs": [
    {
     "name": "stdout",
     "output_type": "stream",
     "text": [
      "2017 1 2 Afghanistan South Asia Takhta Pul 31.320556 65.961111 Hostage Taking (Kidnapping) 0.0 0.0 Construction Workers Taliban Business Firearms 0.0 \n",
      "2017 1 3 Sudan Sub-Saharan Africa Fantaga 12.921007000000001 24.318324 Armed Assault 2.0 0.0 Civilians: Haroun Yousif, Hamid Ibrahim Unknown Private Citizens & Property Firearms 2.0 \n",
      "2017 1 1 Democratic Republic of the Congo Sub-Saharan Africa Saboko 1.452372 29.875162 Armed Assault 7.0 0.0 Village Allied Democratic Forces (ADF) Private Citizens & Property Melee 7.0 \n"
     ]
    }
   ],
   "source": [
    "import csv\n",
    "\n",
    "with open('year2017.csv','r') as file_obj:\n",
    "    file_data=csv.reader(file_obj,delimiter=',',skipinitialspace=True)\n",
    "    \n",
    "    file_list=list(file_data)\n",
    "\n",
    "for i in range(1,4):\n",
    "    val=file_list[i]\n",
    "    l=len(val)\n",
    "    for j in range(l):\n",
    "        print(val[j],end=' ')\n",
    "    print('\\n',end='')"
   ]
  },
  {
   "cell_type": "markdown",
   "metadata": {},
   "source": [
    "### Print all column names"
   ]
  },
  {
   "cell_type": "markdown",
   "metadata": {},
   "source": [
    "Problem Statement :\n",
    "Open and read the file\n",
    "Print the name of columns (in different lines)\n",
    "Output Format :\n",
    "\n",
    "Column 1\n",
    "\n",
    "Column 2\n",
    "\n",
    "Column 3\n",
    "\n",
    "and so on\n",
    "\n"
   ]
  },
  {
   "cell_type": "code",
   "execution_count": 5,
   "metadata": {},
   "outputs": [
    {
     "name": "stdout",
     "output_type": "stream",
     "text": [
      "Year\n",
      "Month\n",
      "Day\n",
      "Country\n",
      "Region\n",
      "city\n",
      "latitude\n",
      "longitude\n",
      "AttackType\n",
      "Killed\n",
      "Wounded\n",
      "Target\n",
      "Group\n",
      "Target_type\n",
      "Weapon_type\n",
      "casualities\n"
     ]
    }
   ],
   "source": [
    "import csv\n",
    "\n",
    "with open('year2017.csv','r') as file_obj:\n",
    "    file_data=csv.reader(file_obj,delimiter=',',skipinitialspace=True)\n",
    "    \n",
    "    file_list=list(file_data)\n",
    "\n",
    "\n",
    "val=file_list[0]\n",
    "l=len(val)\n",
    "for j in range(l):\n",
    "    print(val[j])"
   ]
  },
  {
   "cell_type": "markdown",
   "metadata": {},
   "source": [
    "### Country Names "
   ]
  },
  {
   "cell_type": "markdown",
   "metadata": {},
   "source": [
    "Problem Statement :\n",
    "Open and read the file\n",
    "Print the country names from first 10 rows (in different lines)\n",
    "Output Format :\n",
    "\n",
    "Country 1\n",
    "\n",
    "Country 2\n",
    "\n",
    "Country 3\n",
    "\n",
    "and so on\n",
    "\n"
   ]
  },
  {
   "cell_type": "code",
   "execution_count": null,
   "metadata": {},
   "outputs": [],
   "source": [
    "import csv\n",
    "\n",
    "with open('year2017.csv','r') as file_obj:\n",
    "    file_data=csv.reader(file_obj,delimiter=',',skipinitialspace=True)\n",
    "    \n",
    "    file_list=list(file_data)\n",
    "\n",
    "for i in range(1,11):\n",
    "    val=file_list[i]\n",
    "    l=len(val)\n",
    "    for j in range(l):\n",
    "        print(val[3])"
   ]
  },
  {
   "cell_type": "markdown",
   "metadata": {},
   "source": [
    "### Total Wounded People"
   ]
  },
  {
   "cell_type": "markdown",
   "metadata": {},
   "source": [
    "Problem Statement :\n",
    "Find and print the total number of wounded people.\n",
    "Print the count as integer value.\n",
    "Note : There can be missing values in \"Wounded\" column. You should try to print the values of \"Wounded\" column and observe.\n",
    "Output Format :\n",
    "\n",
    "Count\n",
    "\n"
   ]
  },
  {
   "cell_type": "code",
   "execution_count": 8,
   "metadata": {},
   "outputs": [
    {
     "name": "stdout",
     "output_type": "stream",
     "text": [
      "24927\n"
     ]
    }
   ],
   "source": [
    "import csv\n",
    "\n",
    "with open('year2017.csv','r') as file_obj:\n",
    "    file_data=csv.reader(file_obj,delimiter=',',skipinitialspace=True)\n",
    "    \n",
    "    file_list=list(file_data)\n",
    "\n",
    "\n",
    "sum=0\n",
    "for i in range(1,len(file_list)):\n",
    "    if file_list[i][10]!='':\n",
    "        val=int(float(file_list[i][10]))\n",
    "        sum=sum+val\n",
    "\n",
    "print(sum)\n"
   ]
  },
  {
   "cell_type": "markdown",
   "metadata": {},
   "source": [
    "### Total Wounded from India"
   ]
  },
  {
   "cell_type": "markdown",
   "metadata": {},
   "source": [
    "Problem Statement :\n",
    "Find and print the total number of wounded people who are from country \"India\".\n",
    "Print the count as integer value.\n",
    "Note : There can be missing values in \"Wounded\" column. You should try to print the values of \"Wounded\" column and observe.\n",
    "Output Format :\n",
    "\n",
    "Count\n"
   ]
  },
  {
   "cell_type": "code",
   "execution_count": 9,
   "metadata": {},
   "outputs": [
    {
     "name": "stdout",
     "output_type": "stream",
     "text": [
      "702\n"
     ]
    }
   ],
   "source": [
    "import csv\n",
    "\n",
    "with open('year2017.csv','r') as file_obj:\n",
    "    file_data=csv.reader(file_obj,delimiter=',',skipinitialspace=True)\n",
    "    \n",
    "    file_list=list(file_data)\n",
    "\n",
    "\n",
    "sum=0\n",
    "for i in range(1,len(file_list)):\n",
    "    if (file_list[i][3]=='India') and (file_list[i][10]!=''):\n",
    "        val=int(float(file_list[i][10]))\n",
    "        sum=sum+val\n",
    "\n",
    "print(sum)"
   ]
  },
  {
   "cell_type": "markdown",
   "metadata": {},
   "source": [
    "### Casualties from Explosives"
   ]
  },
  {
   "cell_type": "markdown",
   "metadata": {},
   "source": [
    "Problem Statement :\n",
    "Find and print total number of casualties with “Explosives” Weapon_type.\n",
    "Print the count as integer value.\n",
    "Note : There can be missing values in \"casualties\" column and there are some initial spaces present in every value. You should try to print the values and observe.\n",
    "Output Format :\n",
    "\n",
    "Count\n"
   ]
  },
  {
   "cell_type": "code",
   "execution_count": 10,
   "metadata": {},
   "outputs": [
    {
     "name": "stdout",
     "output_type": "stream",
     "text": [
      "29280\n"
     ]
    }
   ],
   "source": [
    "import csv\n",
    "\n",
    "with open('year2017.csv','r') as file_obj:\n",
    "    file_data=csv.DictReader(file_obj,delimiter=',',skipinitialspace=True)\n",
    "    \n",
    "    sum=0\n",
    "    for row in file_data:\n",
    "        if row['Weapon_type']=='Explosives':\n",
    "            if row['casualities']!='':\n",
    "                sum=sum+int(float(row['casualities']))\n",
    "            \n",
    "    print(sum)\n"
   ]
  },
  {
   "cell_type": "markdown",
   "metadata": {},
   "source": [
    "### Month vs Killed"
   ]
  },
  {
   "cell_type": "markdown",
   "metadata": {},
   "source": [
    "Problem Statement :\n",
    "Find the total number people killed in each month.\n",
    "Print the month and count of killed people as integer value.\n",
    "Output Format :\n",
    "\n",
    "Month_1 Count_1\n",
    "\n",
    "Month_2 Count_2\n",
    "\n",
    "Month_3 Count_3\n",
    "\n",
    "and so on\n"
   ]
  },
  {
   "cell_type": "code",
   "execution_count": 12,
   "metadata": {},
   "outputs": [
    {
     "name": "stdout",
     "output_type": "stream",
     "text": [
      "1 2275\n",
      "2 2027\n",
      "3 2463\n",
      "4 2142\n",
      "5 2936\n",
      "6 2506\n",
      "7 2228\n",
      "8 2145\n",
      "9 1764\n",
      "10 2580\n",
      "11 2014\n",
      "12 1365\n"
     ]
    }
   ],
   "source": [
    "import csv\n",
    "with open('year2017.csv','r') as file_obj:\n",
    "    file_data=csv.DictReader(file_obj,delimiter=',',skipinitialspace=True)\n",
    "    \n",
    "    file_list=list(file_data)\n",
    "\n",
    "    \n",
    "month={}\n",
    "for row in file_list:\n",
    "    key=row['Month']\n",
    "    value=row['Killed']\n",
    "    \n",
    "    if value!='':\n",
    "        value=int(float(value))\n",
    "    else:\n",
    "        value=0\n",
    "        \n",
    "    if key in month:\n",
    "        month[key]+=value\n",
    "    else:\n",
    "        month[key]=value\n",
    "\n",
    "for i in month:\n",
    "    print(i,month[i])\n",
    "    "
   ]
  },
  {
   "cell_type": "markdown",
   "metadata": {},
   "source": [
    "### Country vs Casualties"
   ]
  },
  {
   "cell_type": "markdown",
   "metadata": {},
   "source": [
    "Problem Statement :\n",
    "Find total number of casualties in each country.\n",
    "Print number of casualties as integer value.\n",
    "Note : For any missing value of casualty column, take 0 as value\n",
    "Output Format :\n",
    "\n",
    "country_1 casualties_1\n",
    "\n",
    "country_2 casualties_2\n",
    "\n",
    "country_3 casualties_3\n",
    "\n",
    "and so on\n"
   ]
  },
  {
   "cell_type": "code",
   "execution_count": null,
   "metadata": {},
   "outputs": [],
   "source": [
    "import csv\n",
    "with open('year2017.csv','r') as file_obj:\n",
    "    file_data=csv.DictReader(file_obj,delimiter=',',skipinitialspace=True)\n",
    "    \n",
    "    file_list=list(file_data)\n",
    "\n",
    "    \n",
    "Country={}\n",
    "for row in file_list:\n",
    "    key=row['Country']\n",
    "    value=row['casualities']\n",
    "    \n",
    "    if value!='':\n",
    "        value=int(float(value))\n",
    "    else:\n",
    "        value=0\n",
    "        \n",
    "    if key in Country:\n",
    "        Country[key]+=value\n",
    "    else:\n",
    "        Country[key]=value\n",
    "\n",
    "for i in Country:\n",
    "    print(i,Country[i])"
   ]
  },
  {
   "cell_type": "markdown",
   "metadata": {},
   "source": [
    "### This coding was done by @RK2021"
   ]
  }
 ],
 "metadata": {
  "kernelspec": {
   "display_name": "Python 3",
   "language": "python",
   "name": "python3"
  },
  "language_info": {
   "codemirror_mode": {
    "name": "ipython",
    "version": 3
   },
   "file_extension": ".py",
   "mimetype": "text/x-python",
   "name": "python",
   "nbconvert_exporter": "python",
   "pygments_lexer": "ipython3",
   "version": "3.8.5"
  }
 },
 "nbformat": 4,
 "nbformat_minor": 4
}
